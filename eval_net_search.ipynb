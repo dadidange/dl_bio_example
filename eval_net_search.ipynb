{
 "metadata": {
  "language_info": {
   "codemirror_mode": {
    "name": "ipython",
    "version": 3
   },
   "file_extension": ".py",
   "mimetype": "text/x-python",
   "name": "python",
   "nbconvert_exporter": "python",
   "pygments_lexer": "ipython3",
   "version": 3
  },
  "orig_nbformat": 2
 },
 "nbformat": 4,
 "nbformat_minor": 2,
 "cells": [
  {
   "cell_type": "code",
   "execution_count": null,
   "metadata": {},
   "outputs": [],
   "source": [
    "import json\n",
    "import matplotlib.pyplot as plt\n",
    "import glob\n",
    "import statistics\n",
    "\n",
    "import pandas as pd\n",
    "\n",
    "from os.path import join\n",
    "from os import walk, path\n",
    "\n",
    "from DLBio.kwargs_translator import get_kwargs"
   ]
  },
  {
   "cell_type": "code",
   "execution_count": null,
   "metadata": {},
   "outputs": [],
   "source": [
    "SRC_DIR = './experiments/eval_custom_models'"
   ]
  },
  {
   "cell_type": "code",
   "execution_count": null,
   "metadata": {},
   "outputs": [],
   "source": [
    "def load_json(file_path):\n",
    "    with open(file_path, 'r') as file:\n",
    "        out = json.load(file)\n",
    "    return out\n",
    "# TODO find logs & configs\n",
    "def find_files(dir_name,file_name):\n",
    "    paths = glob.glob(join(dir_name, file_name))\n",
    "    return paths\n"
   ]
  },
  {
   "cell_type": "code",
   "execution_count": null,
   "metadata": {},
   "outputs": [],
   "source": [
    "folders = find_files(SRC_DIR, 'layer*')\n",
    "# TODO save in df \n",
    "# TODO evaluate\n",
    "# TODO: compute the mean, std, and median results in a pandas DataFrame\n",
    "data = []\n",
    "for i,folder in enumerate(folders):\n",
    "    log = load_json(join(folder, 'log.json'))\n",
    "    opt = load_json(join(folder, 'opt.json'))\n",
    "    \n",
    "    if not bool(log):\n",
    "        print(f'log_{i} is empty')\n",
    "        continue\n",
    "    \n",
    "    # Params: \n",
    "    acc = log['val_acc']\n",
    "    er = log['val_er']\n",
    "    \n",
    "    d = {}\n",
    "    \n",
    "    model_kw = get_kwargs(opt['model_kw'])\n",
    "    d['num_layer'] =  int(model_kw.get('num_layer', [0])[0])\n",
    "    d['init_dim'] = int(model_kw.get('init_dim', [0])[0])\n",
    "    \n",
    "    d['seed'] = opt['seed']\n",
    "    \n",
    "    d['acc_mean'] = statistics.mean(acc)\n",
    "    d['acc_std'] = statistics.stdev(acc)\n",
    "    d['acc_median'] = statistics.median(acc)\n",
    "    \n",
    "    d['er_mean'] = statistics.mean(er)\n",
    "    d['er_std'] = statistics.stdev(er)\n",
    "    d['er_median'] = statistics.median(er)\n",
    "    \n",
    "   \n",
    "    \n",
    "    data.append(d)\n",
    "    \n",
    "    "
   ]
  },
  {
   "cell_type": "code",
   "execution_count": null,
   "metadata": {},
   "outputs": [],
   "source": [
    "df = pd.DataFrame(data)\n",
    "key = 'acc_mean'\n",
    "\n",
    "# df.sort_values(by=['num_layer', 'init_dim', key])\n",
    "\n",
    "df.groupby(['num_layer', 'init_dim']).agg('mean').sort_values(by=[key], ascending=False)\n",
    "\n"
   ]
  }
 ]
}